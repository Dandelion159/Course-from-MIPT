{
 "cells": [
  {
   "cell_type": "code",
   "execution_count": 311,
   "metadata": {
    "collapsed": true
   },
   "outputs": [],
   "source": [
    "import numpy as np\n",
    "import scipy "
   ]
  },
  {
   "cell_type": "code",
   "execution_count": 312,
   "metadata": {
    "collapsed": true
   },
   "outputs": [],
   "source": [
    "f = open(\"sentences.txt\", \"r\")"
   ]
  },
  {
   "cell_type": "code",
   "execution_count": 313,
   "metadata": {
    "collapsed": false
   },
   "outputs": [],
   "source": [
    "lines = f.readlines()"
   ]
  },
  {
   "cell_type": "code",
   "execution_count": 314,
   "metadata": {
    "collapsed": true
   },
   "outputs": [],
   "source": [
    "f.close()"
   ]
  },
  {
   "cell_type": "code",
   "execution_count": 315,
   "metadata": {
    "collapsed": false
   },
   "outputs": [],
   "source": [
    "for i in range(len(lines)):\n",
    "    lines[i] = lines[i].lower()"
   ]
  },
  {
   "cell_type": "code",
   "execution_count": 316,
   "metadata": {
    "collapsed": false
   },
   "outputs": [],
   "source": [
    "import re\n",
    "for i in range(len(lines)):\n",
    "    lines[i] = re.split('[^a-z]', lines[i])\n",
    "    lines[i] = list(filter(None, lines[i]))"
   ]
  },
  {
   "cell_type": "code",
   "execution_count": 317,
   "metadata": {
    "collapsed": false
   },
   "outputs": [],
   "source": [
    "dict = {}\n",
    "d = 0\n",
    "for i in range(len(lines)):\n",
    "    for word in lines[i]:\n",
    "        if word not in dict.values():\n",
    "            dict[d] = word\n",
    "            d = d + 1"
   ]
  },
  {
   "cell_type": "code",
   "execution_count": 318,
   "metadata": {
    "collapsed": false
   },
   "outputs": [
    {
     "data": {
      "text/plain": [
       "{0: 'in',\n",
       " 1: 'comparison',\n",
       " 2: 'to',\n",
       " 3: 'dogs',\n",
       " 4: 'cats',\n",
       " 5: 'have',\n",
       " 6: 'not',\n",
       " 7: 'undergone',\n",
       " 8: 'major',\n",
       " 9: 'changes',\n",
       " 10: 'during',\n",
       " 11: 'the',\n",
       " 12: 'domestication',\n",
       " 13: 'process',\n",
       " 14: 'as',\n",
       " 15: 'cat',\n",
       " 16: 'simply',\n",
       " 17: 'catenates',\n",
       " 18: 'streams',\n",
       " 19: 'of',\n",
       " 20: 'bytes',\n",
       " 21: 'it',\n",
       " 22: 'can',\n",
       " 23: 'be',\n",
       " 24: 'also',\n",
       " 25: 'used',\n",
       " 26: 'concatenate',\n",
       " 27: 'binary',\n",
       " 28: 'files',\n",
       " 29: 'where',\n",
       " 30: 'will',\n",
       " 31: 'just',\n",
       " 32: 'sequence',\n",
       " 33: 'a',\n",
       " 34: 'common',\n",
       " 35: 'interactive',\n",
       " 36: 'use',\n",
       " 37: 'for',\n",
       " 38: 'single',\n",
       " 39: 'file',\n",
       " 40: 'is',\n",
       " 41: 'output',\n",
       " 42: 'content',\n",
       " 43: 'standard',\n",
       " 44: 'hear',\n",
       " 45: 'sounds',\n",
       " 46: 'too',\n",
       " 47: 'faint',\n",
       " 48: 'or',\n",
       " 49: 'high',\n",
       " 50: 'frequency',\n",
       " 51: 'human',\n",
       " 52: 'ears',\n",
       " 53: 'such',\n",
       " 54: 'those',\n",
       " 55: 'made',\n",
       " 56: 'by',\n",
       " 57: 'mice',\n",
       " 58: 'and',\n",
       " 59: 'other',\n",
       " 60: 'small',\n",
       " 61: 'animals',\n",
       " 62: 'one',\n",
       " 63: 'people',\n",
       " 64: 'deliberately',\n",
       " 65: 'tamed',\n",
       " 66: 'artificial',\n",
       " 67: 'selection',\n",
       " 68: 'they',\n",
       " 69: 'were',\n",
       " 70: 'useful',\n",
       " 71: 'predators',\n",
       " 72: 'vermin',\n",
       " 73: 'domesticated',\n",
       " 74: 'its',\n",
       " 75: 'closest',\n",
       " 76: 'wild',\n",
       " 77: 'ancestor',\n",
       " 78: 'are',\n",
       " 79: 'both',\n",
       " 80: 'diploid',\n",
       " 81: 'organisms',\n",
       " 82: 'that',\n",
       " 83: 'possess',\n",
       " 84: 'chromosomes',\n",
       " 85: 'roughly',\n",
       " 86: 'genes',\n",
       " 87: 'domestic',\n",
       " 88: 'similar',\n",
       " 89: 'size',\n",
       " 90: 'members',\n",
       " 91: 'genus',\n",
       " 92: 'felis',\n",
       " 93: 'typically',\n",
       " 94: 'weighing',\n",
       " 95: 'between',\n",
       " 96: 'kg',\n",
       " 97: 'lb',\n",
       " 98: 'however',\n",
       " 99: 'if',\n",
       " 100: 'piped',\n",
       " 101: 'redirected',\n",
       " 102: 'unnecessary',\n",
       " 103: 'with',\n",
       " 104: 'named',\n",
       " 105: 'safer',\n",
       " 106: 'error',\n",
       " 107: 'concern',\n",
       " 108: 'wrong',\n",
       " 109: 'default',\n",
       " 110: 'redirection',\n",
       " 111: 'symbol',\n",
       " 112: 'instead',\n",
       " 113: 'often',\n",
       " 114: 'adjacent',\n",
       " 115: 'on',\n",
       " 116: 'keyboards',\n",
       " 117: 'may',\n",
       " 118: 'permanently',\n",
       " 119: 'delete',\n",
       " 120: 'you',\n",
       " 121: 'needing',\n",
       " 122: 'read',\n",
       " 123: 'terms',\n",
       " 124: 'legibility',\n",
       " 125: 'commands',\n",
       " 126: 'starting',\n",
       " 127: 'connected',\n",
       " 128: 'pipes',\n",
       " 129: 'has',\n",
       " 130: 'clear',\n",
       " 131: 'left',\n",
       " 132: 'right',\n",
       " 133: 'flow',\n",
       " 134: 'information',\n",
       " 135: 'command',\n",
       " 136: 'basic',\n",
       " 137: 'learned',\n",
       " 138: 'when',\n",
       " 139: 'started',\n",
       " 140: 'unix',\n",
       " 141: 'linux',\n",
       " 142: 'world',\n",
       " 143: 'using',\n",
       " 144: 'lines',\n",
       " 145: 'received',\n",
       " 146: 'from',\n",
       " 147: 'stdin',\n",
       " 148: 'new',\n",
       " 149: 'symbols',\n",
       " 150: 'type',\n",
       " 151: 'without',\n",
       " 152: 'any',\n",
       " 153: 'arguments',\n",
       " 154: 'receives',\n",
       " 155: 'displays',\n",
       " 156: 'stdout',\n",
       " 157: 'leopard',\n",
       " 158: 'was',\n",
       " 159: 'released',\n",
       " 160: 'october',\n",
       " 161: 'successor',\n",
       " 162: 'tiger',\n",
       " 163: 'version',\n",
       " 164: 'available',\n",
       " 165: 'two',\n",
       " 166: 'editions',\n",
       " 167: 'according',\n",
       " 168: 'apple',\n",
       " 169: 'contains',\n",
       " 170: 'over',\n",
       " 171: 'enhancements',\n",
       " 172: 'predecessor',\n",
       " 173: 'mac',\n",
       " 174: 'os',\n",
       " 175: 'x',\n",
       " 176: 'mid',\n",
       " 177: 'some',\n",
       " 178: 'computers',\n",
       " 179: 'firmware',\n",
       " 180: 'factory',\n",
       " 181: 'installed',\n",
       " 182: 'which',\n",
       " 183: 'no',\n",
       " 184: 'longer',\n",
       " 185: 'allow',\n",
       " 186: 'installation',\n",
       " 187: 'since',\n",
       " 188: 'moved',\n",
       " 189: 'intel',\n",
       " 190: 'processors',\n",
       " 191: 'their',\n",
       " 192: 'osx',\n",
       " 193: 'community',\n",
       " 194: 'developed',\n",
       " 195: 'now',\n",
       " 196: 'allows',\n",
       " 197: 'later',\n",
       " 198: 'releases',\n",
       " 199: 'non',\n",
       " 200: 'based',\n",
       " 201: 'mountain',\n",
       " 202: 'lion',\n",
       " 203: 'july',\n",
       " 204: 'purchase',\n",
       " 205: 'download',\n",
       " 206: 'through',\n",
       " 207: 's',\n",
       " 208: 'app',\n",
       " 209: 'store',\n",
       " 210: 'part',\n",
       " 211: 'switch',\n",
       " 212: 'releasing',\n",
       " 213: 'versions',\n",
       " 214: 'online',\n",
       " 215: 'every',\n",
       " 216: 'year',\n",
       " 217: 'patch',\n",
       " 218: 'three',\n",
       " 219: 'most',\n",
       " 220: 'recent',\n",
       " 221: 'safari',\n",
       " 222: 'running',\n",
       " 223: 'yosemite',\n",
       " 224: 'mavericks',\n",
       " 225: 'release',\n",
       " 226: 'marks',\n",
       " 227: 'second',\n",
       " 228: 'time',\n",
       " 229: 'offered',\n",
       " 230: 'an',\n",
       " 231: 'incremental',\n",
       " 232: 'upgrade',\n",
       " 233: 'rather',\n",
       " 234: 'than',\n",
       " 235: 'entirely',\n",
       " 236: 'installs',\n",
       " 237: 'place',\n",
       " 238: 'so',\n",
       " 239: 'won',\n",
       " 240: 't',\n",
       " 241: 'need',\n",
       " 242: 'create',\n",
       " 243: 'separate',\n",
       " 244: 'disk',\n",
       " 245: 'run',\n",
       " 246: 'off',\n",
       " 247: 'external',\n",
       " 248: 'drive',\n",
       " 249: 'fifth',\n",
       " 250: 'update',\n",
       " 251: 'features',\n",
       " 252: 'more',\n",
       " 253: 'count'}"
      ]
     },
     "execution_count": 318,
     "metadata": {},
     "output_type": "execute_result"
    }
   ],
   "source": [
    "dict"
   ]
  },
  {
   "cell_type": "code",
   "execution_count": 319,
   "metadata": {
    "collapsed": true
   },
   "outputs": [],
   "source": [
    "matrix = np.zeros((len(lines), len(dict)))"
   ]
  },
  {
   "cell_type": "code",
   "execution_count": 320,
   "metadata": {
    "collapsed": false
   },
   "outputs": [],
   "source": [
    "for i in range(len(lines)):\n",
    "    for j in range(len(dict)):\n",
    "        matrix[i][j] = matrix[i][j] + lines[i].count(dict.get(j))\n",
    "        "
   ]
  },
  {
   "cell_type": "code",
   "execution_count": 321,
   "metadata": {
    "collapsed": false
   },
   "outputs": [
    {
     "data": {
      "text/plain": [
       "array([[ 1.,  1.,  1., ...,  0.,  0.,  0.],\n",
       "       [ 0.,  0.,  1., ...,  0.,  0.,  0.],\n",
       "       [ 0.,  0.,  2., ...,  0.,  0.,  0.],\n",
       "       ..., \n",
       "       [ 0.,  0.,  0., ...,  0.,  0.,  0.],\n",
       "       [ 1.,  0.,  1., ...,  0.,  0.,  0.],\n",
       "       [ 0.,  0.,  1., ...,  1.,  1.,  1.]])"
      ]
     },
     "execution_count": 321,
     "metadata": {},
     "output_type": "execute_result"
    }
   ],
   "source": [
    "matrix"
   ]
  },
  {
   "cell_type": "code",
   "execution_count": 322,
   "metadata": {
    "collapsed": false
   },
   "outputs": [
    {
     "data": {
      "text/plain": [
       "22"
      ]
     },
     "execution_count": 322,
     "metadata": {},
     "output_type": "execute_result"
    }
   ],
   "source": [
    "len(matrix)"
   ]
  },
  {
   "cell_type": "code",
   "execution_count": 323,
   "metadata": {
    "collapsed": false
   },
   "outputs": [
    {
     "name": "stdout",
     "output_type": "stream",
     "text": [
      "0.0\n",
      "0.952754440874\n",
      "0.864473814564\n",
      "0.895171516328\n",
      "0.77708871497\n",
      "0.940238569533\n",
      "0.732738758088\n",
      "0.925875068334\n",
      "0.884272487528\n",
      "0.905508881748\n",
      "0.832816536227\n",
      "0.880477139067\n",
      "0.839643254853\n",
      "0.87035925529\n",
      "0.87401184233\n",
      "0.944272178742\n",
      "0.840636185422\n",
      "0.956644501524\n",
      "0.944272178742\n",
      "0.888544357485\n",
      "0.842757274492\n",
      "0.825036446944\n"
     ]
    }
   ],
   "source": [
    "import scipy.spatial\n",
    "for i in range(len(matrix)):\n",
    "    print(scipy.spatial.distance.cosine(matrix[:1], matrix[i:i+1]))\n",
    "    "
   ]
  }
 ],
 "metadata": {
  "kernelspec": {
   "display_name": "Python 3",
   "language": "python",
   "name": "python3"
  },
  "language_info": {
   "codemirror_mode": {
    "name": "ipython",
    "version": 3
   },
   "file_extension": ".py",
   "mimetype": "text/x-python",
   "name": "python",
   "nbconvert_exporter": "python",
   "pygments_lexer": "ipython3",
   "version": "3.6.0"
  }
 },
 "nbformat": 4,
 "nbformat_minor": 2
}
